{
 "cells": [
  {
   "cell_type": "markdown",
   "id": "2f55de03-0a41-4fc1-a426-d42ecb9d6b3f",
   "metadata": {},
   "source": [
    "# HR Analytics Key Metrics"
   ]
  },
  {
   "cell_type": "markdown",
   "id": "c6e5a30b-fbfa-4499-acf8-7762583f8222",
   "metadata": {},
   "source": [
    "## Time To Hire"
   ]
  },
  {
   "cell_type": "code",
   "execution_count": null,
   "id": "a2613135-8d4d-4e2d-9f46-dbbb6e03ff79",
   "metadata": {
    "collapsed": true,
    "jupyter": {
     "outputs_hidden": true
    }
   },
   "outputs": [],
   "source": [
    "# average_time_to_hire\n",
    "atth = sum of n candidates time to hire in days / n (count of candidates)\n",
    "\n",
    "# time_to_hire: It measures the number of days between a candidate applying for a job and them accepting a job offer.\n",
    "# Time to hire gives insights into recruiting efficiency and candidate experience. \n",
    "\n",
    "## Time to hire should not be confused with time to fill.\n",
    "## This metric typically measures the days between the approval of a job requisition and the candidate accepting the job offer."
   ]
  },
  {
   "cell_type": "markdown",
   "id": "641d4719-b967-49bc-a563-bafe80c87929",
   "metadata": {},
   "source": [
    "## Cost Per Hire "
   ]
  },
  {
   "cell_type": "code",
   "execution_count": null,
   "id": "2ba70700-2898-408c-b818-0027b34aeeec",
   "metadata": {
    "collapsed": true,
    "jupyter": {
     "outputs_hidden": true
    }
   },
   "outputs": [],
   "source": [
    "cost_per_hire = (Internal costs + External costs) / Total number of hires\n",
    "\n",
    "# cost per hire : It shows how much it costs the company to hire new employees. \n",
    "# This also serves as an indicator of the efficiency of the recruitment process. "
   ]
  },
  {
   "cell_type": "markdown",
   "id": "dd7d2ea7-5ace-4499-9b31-65a9fbe937ca",
   "metadata": {},
   "source": [
    "## Quality of Hire"
   ]
  },
  {
   "cell_type": "code",
   "execution_count": 1,
   "id": "f2d52163-ba55-480a-9c4e-c86ce6d886b3",
   "metadata": {
    "collapsed": true,
    "jupyter": {
     "outputs_hidden": true
    }
   },
   "outputs": [],
   "source": [
    "quality_of_hire :\n",
    "\n",
    "# Quality of hire measures the value a new employee brings to an organization.\n",
    "# This metric assesses the effectiveness of the recruitment process and the long-term impact of new hires on company performance.\n",
    "\n",
    "# Quality of hire is typically evaluated based on several criteria,\n",
    "# including the new employee’s job performance,\n",
    "# their contribution to achieving team or organizational goals,\n",
    "# how well they fit with the company culture, \n",
    "# and their retention rate over time. "
   ]
  },
  {
   "cell_type": "markdown",
   "id": "3d9f09f3-2900-4743-87d3-60c6342c47be",
   "metadata": {},
   "source": [
    "## Turnover"
   ]
  },
  {
   "cell_type": "code",
   "execution_count": null,
   "id": "0577eb14-699f-49e7-bf35-bf5068d5986e",
   "metadata": {
    "collapsed": true,
    "jupyter": {
     "outputs_hidden": true
    }
   },
   "outputs": [],
   "source": [
    "turnover = (count of Terminations / count Employees at beginning of period) x 100\n",
    "\n",
    "# shows how many workers leave the company in a given year. When combined with, for instance, a performance metric,\n",
    "# the turnover metric can track the difference in departures of high and low performers. \n",
    "\n",
    "## eferably, you would like to see low performers leave and high performers stay.\n",
    "## This metric also provides HR professionals with a great amount of information about\n",
    "## the departments and functions in which employees feel at home and where in the organization they do not want to work"
   ]
  },
  {
   "cell_type": "markdown",
   "id": "1f37daea-55a7-415c-9b9a-13859ca775c6",
   "metadata": {},
   "source": [
    "## Early Turnover"
   ]
  },
  {
   "cell_type": "code",
   "execution_count": null,
   "id": "e1afe0c0-6d3a-495d-b028-b35d71575525",
   "metadata": {
    "collapsed": true,
    "jupyter": {
     "outputs_hidden": true
    }
   },
   "outputs": [],
   "source": [
    "early_turnover = (count of new hires who have left the organization / count of new hires who from that same period) x 100\n",
    "\n",
    "# Early turnover : the percentage of recruits leaving in the first year \n",
    "# This early leaver metric indicates whether there is a mismatch between the person and the company or\n",
    "# between the person and his/her position.\n",
    "\n",
    "## New hire turnover is also very expensive. It usually takes 6 to 12 months before employees have fully learned the ropes\n",
    "## and reach their Optimum Productivity Level. \n",
    "## The cost of replacing an employee can be as much as 1.5-2x the employee’s annual salary, especially for more senior roles. "
   ]
  },
  {
   "cell_type": "markdown",
   "id": "2c06cf08-09cf-401a-bf9f-9e1fd7370769",
   "metadata": {},
   "source": [
    "## Time since Last Promotion"
   ]
  },
  {
   "cell_type": "code",
   "execution_count": null,
   "id": "0cf92ee5-5db4-4d40-8835-b831a1524a3d",
   "metadata": {
    "collapsed": true,
    "jupyter": {
     "outputs_hidden": true
    }
   },
   "outputs": [],
   "source": [
    "time_since_last_promotion = average time since the last internal promotion (months)\n",
    "\n",
    "# This rather straightforward metric is useful in explaining why your high potentials leave."
   ]
  },
  {
   "cell_type": "markdown",
   "id": "ae29ac8e-dfd1-4017-9823-0da891c6a436",
   "metadata": {},
   "source": [
    "## Revenue per Employeee"
   ]
  },
  {
   "cell_type": "code",
   "execution_count": null,
   "id": "cab69105-03dd-44e8-b0b7-2af9a86e9123",
   "metadata": {
    "collapsed": true,
    "jupyter": {
     "outputs_hidden": true
    }
   },
   "outputs": [],
   "source": [
    "revenue_per_employee = Total revenue / Number of employees\n",
    "\n",
    "# It’s useful for comparing the year-on-year development of your revenue per employee,\n",
    "# as well as comparing your organization to your competitors. "
   ]
  },
  {
   "cell_type": "markdown",
   "id": "282649b9-1735-4e88-83c8-1bca411d8b49",
   "metadata": {},
   "source": [
    "## Performance and Potential"
   ]
  },
  {
   "cell_type": "code",
   "execution_count": null,
   "id": "bdd87693-bb1b-45b9-a970-5d29d4c17aed",
   "metadata": {
    "collapsed": true,
    "jupyter": {
     "outputs_hidden": true
    }
   },
   "outputs": [],
   "source": [
    "performance_and_potential :\n",
    "\n",
    "# Metrics include Net Promoter Score, management by objectives, number of errors, 360-degree feedback, and forced ranking.\n",
    "\n",
    "# Another useful tool is the 9 box grid, which assists in measuring and mapping both an individual’s performance and potential\n",
    "# in three levels. This model shows which employees are underperformers, reliable team players, high potentials, or exceptional talent."
   ]
  },
  {
   "cell_type": "markdown",
   "id": "2068de11-f85c-4ee4-9d0c-1879f3e299a5",
   "metadata": {},
   "source": [
    "## Training Expenses per Employee"
   ]
  },
  {
   "cell_type": "code",
   "execution_count": null,
   "id": "59638a7d-9c77-4535-9cde-ac977da90521",
   "metadata": {
    "collapsed": true,
    "jupyter": {
     "outputs_hidden": true
    }
   },
   "outputs": [],
   "source": [
    "training_expenses_per_employee =  Total training expenses / Total number of employees\n",
    "\n",
    "# Training expenses per employee is a metric that quantifies the average amount of money an organization spends on\n",
    "# the training and development of each employee over a specific period, typically a year. \n",
    "# This figure is key for understanding the investment an organization makes in enhancing the skills,\n",
    "# knowledge, and competencies of its workforce. "
   ]
  },
  {
   "cell_type": "markdown",
   "id": "83f84d12-adf0-4f03-bf1f-f5cd291db6ee",
   "metadata": {},
   "source": [
    "## Overtime Expenses"
   ]
  },
  {
   "cell_type": "code",
   "execution_count": null,
   "id": "b52b01b8-b9d0-4f5d-b2ab-ac0754b7245f",
   "metadata": {
    "collapsed": true,
    "jupyter": {
     "outputs_hidden": true
    }
   },
   "outputs": [],
   "source": [
    "overtime_expenses = Total overtime hours worked x Overtime pay rate\n",
    "\n",
    "# These expenses are a form of direct labor cost and can significantly impact an organization’s payroll budget.\n",
    "# That’s why it’s important to keep track of them. "
   ]
  },
  {
   "cell_type": "markdown",
   "id": "0fbee2e3-f39b-4d1c-a847-1e6c7261923e",
   "metadata": {},
   "source": [
    "## Engagement Rating"
   ]
  },
  {
   "cell_type": "code",
   "execution_count": null,
   "id": "283b298f-0bf9-4c77-9d1b-2adf841fd345",
   "metadata": {
    "collapsed": true,
    "jupyter": {
     "outputs_hidden": true
    }
   },
   "outputs": [],
   "source": [
    "engagement_rating = employee net promoter score (eNPS)\n",
    "\n",
    "# An engaged workforce is a productive workforce. Engagement might be the most important ‘soft’ HR outcome.\n",
    "# People who like their jobs and who are proud of their company are generally more engaged,\n",
    "# even if the work environment is challenging and pressure can be high.\n",
    "\n",
    "# Engaged employees perform better and are more likely to perceive challenges as positive and interesting.\n",
    "# Additionally, team engagement is an important metric for a team manager’s success"
   ]
  },
  {
   "cell_type": "markdown",
   "id": "e6988243-3ac8-477c-b72a-1c7472395e6c",
   "metadata": {},
   "source": [
    "## Employee Satisfaction"
   ]
  },
  {
   "cell_type": "code",
   "execution_count": null,
   "id": "879a2366-296c-41b4-88cb-ff0105885812",
   "metadata": {
    "collapsed": true,
    "jupyter": {
     "outputs_hidden": true
    }
   },
   "outputs": [],
   "source": [
    "employee_satisfaction:\n",
    "\n",
    "# This soft HR metrics is often measured through surveys and questionnaires that ask about various aspects of the job and workplace,\n",
    "# including work-life balance, management effectiveness, and job security."
   ]
  },
  {
   "cell_type": "markdown",
   "id": "12d09154-01e6-4844-b4aa-bd1264db2196",
   "metadata": {},
   "source": [
    "## Leadership Effectiveness"
   ]
  },
  {
   "cell_type": "code",
   "execution_count": null,
   "id": "fc2615c6-9b67-4520-9726-5172e3c670d0",
   "metadata": {
    "collapsed": true,
    "jupyter": {
     "outputs_hidden": true
    }
   },
   "outputs": [],
   "source": [
    "leadership_effectiveness:\n",
    "\n",
    "# The leadership effectiveness metric gauges the impact of leadership on employee performance, morale, and overall organizational climate.\n",
    "\n",
    "# It can be measured through 360-degree feedback surveys, where employees rate their leaders on a range of leadership competencies,\n",
    "# such as communication, decision-making, empathy, and the ability to inspire and motivate"
   ]
  },
  {
   "cell_type": "markdown",
   "id": "1c97a958-55d0-459f-8c0e-87fa5bd6df2d",
   "metadata": {},
   "source": [
    "## Billable Hours per Employee"
   ]
  },
  {
   "cell_type": "code",
   "execution_count": null,
   "id": "7e1b5223-7719-4d1b-ba07-6a267ee5a067",
   "metadata": {
    "collapsed": true,
    "jupyter": {
     "outputs_hidden": true
    }
   },
   "outputs": [],
   "source": [
    "billable_hours_per_employee :\n",
    "\n",
    "# This is the most concrete example of a performance measure, and it is especially relevant in professional service firms \n",
    "# (e.g., law and consultancy firms).\n",
    "# Relating this kind of performance to employee engagement or other input metrics makes for an interesting analysis.\n",
    "# Benchmarking this metric between different departments and managers/partners can also provide valuable insights. "
   ]
  },
  {
   "cell_type": "markdown",
   "id": "821c4152-2591-4a49-b1ea-3b451d3889d4",
   "metadata": {},
   "source": [
    "## Cost of HR per Employee"
   ]
  },
  {
   "cell_type": "code",
   "execution_count": 2,
   "id": "f61fce74-5d33-4adb-987d-f0fd0e5e45fb",
   "metadata": {
    "collapsed": true,
    "jupyter": {
     "outputs_hidden": true
    }
   },
   "outputs": [
    {
     "ename": "SyntaxError",
     "evalue": "invalid syntax (3171576858.py, line 1)",
     "output_type": "error",
     "traceback": [
      "\u001b[1;36m  Cell \u001b[1;32mIn[2], line 1\u001b[1;36m\u001b[0m\n\u001b[1;33m    cost_of_hr_per_employee = Total HR costs / Total number of employees\u001b[0m\n\u001b[1;37m                                    ^\u001b[0m\n\u001b[1;31mSyntaxError\u001b[0m\u001b[1;31m:\u001b[0m invalid syntax\n"
     ]
    }
   ],
   "source": [
    "\n",
    "cost_of_hr_per_employee = Total HR costs / Total number of employees\n",
    "\n",
    "# This includes salaries of HR staff, costs of HR systems and software,\n",
    "# training and development expenses, recruitment costs, benefits administration, and any other HR-related expenditures. "
   ]
  },
  {
   "cell_type": "markdown",
   "id": "545f3326-5956-41f4-9c70-afeef3f79071",
   "metadata": {
    "collapsed": true,
    "jupyter": {
     "outputs_hidden": true
    }
   },
   "source": [
    "## HR to Employee Ratio"
   ]
  },
  {
   "cell_type": "code",
   "execution_count": null,
   "id": "034a7db7-32ac-4a41-83f5-7ac673fdb23e",
   "metadata": {
    "collapsed": true,
    "jupyter": {
     "outputs_hidden": true
    }
   },
   "outputs": [],
   "source": [
    "hr_to_employee_ratio = Number of HR employees / Total number of employees\n",
    "\n",
    "# State of HR research showed that the typical HR to employee ratio is around 1:50 or 2%,\n",
    "# which means that there are 2 HR professionals for every 100 employees. "
   ]
  },
  {
   "cell_type": "markdown",
   "id": "bfbaa3b9-ec0c-49a8-b126-dfac21f6685a",
   "metadata": {},
   "source": [
    "## HRBP to Employee Ratio"
   ]
  },
  {
   "cell_type": "code",
   "execution_count": null,
   "id": "7853560b-3e5b-4862-87ab-b29ff3e3befc",
   "metadata": {},
   "outputs": [],
   "source": [
    "hrbp_to_employee_ratio = Number of HRBP employees / Total number of employees\n",
    "\n",
    "# This ratio is crucial for understanding how equipped the HR department is to provide strategic support\n",
    "# and partnership to the business units it serves. "
   ]
  },
  {
   "cell_type": "markdown",
   "id": "72431fc4-e27c-4ef9-bca1-647320865f43",
   "metadata": {},
   "source": [
    "## Effectiveness of HR Software"
   ]
  },
  {
   "cell_type": "code",
   "execution_count": null,
   "id": "6a971535-fdc5-49d6-b289-d19cb6c0cab0",
   "metadata": {},
   "outputs": [],
   "source": [
    "effectiveness_of_hr_software :\n",
    "\n",
    "# The effectiveness of HR software is a more complex metric. The effectiveness of, for instance,\n",
    "# learning and development software is measured in:\n",
    "\n",
    "#     The number of active users,\n",
    "#     Average time on the platform,\n",
    "#     Session length,\n",
    "#     Total time on the platform per user per month,\n",
    "#     Screen flow, and\n",
    "#     Software retention."
   ]
  },
  {
   "cell_type": "markdown",
   "id": "90506491-75ce-440c-915f-19658d95b2d4",
   "metadata": {},
   "source": [
    "## Acceptance Rate"
   ]
  },
  {
   "cell_type": "code",
   "execution_count": null,
   "id": "480b2de8-be09-4cf8-a884-241d192fa42e",
   "metadata": {},
   "outputs": [],
   "source": [
    "acceotance_rate = (Number of candidates accept the offer / Total offers extended) x 100\n",
    "\n",
    "# It shows how many candidates have accepted the offer in comparison to the total number of offer letters extended by the organization."
   ]
  },
  {
   "cell_type": "markdown",
   "id": "2a043bfc-1be9-4098-964a-e35e409d1972",
   "metadata": {},
   "source": [
    "## Absenteeism"
   ]
  },
  {
   "cell_type": "code",
   "execution_count": null,
   "id": "14bcebe3-240d-4b02-a408-dcc0349ff124",
   "metadata": {
    "collapsed": true,
    "jupyter": {
     "outputs_hidden": true
    }
   },
   "outputs": [],
   "source": [
    "absenteeism = (Number of absent days / Total working days) x 100\n",
    "\n",
    "# Like turnover, absenteeism is also a strong indicator of dissatisfaction and a predictor of turnover.\n",
    "# Absenteeism rate can give information to prevent this kind of leave, as long-term absence can be very costly.\n",
    "\n",
    "# Again, differences between individual managers and departments are very interesting indicators of (potential) problems and bottlenecks. \n"
   ]
  },
  {
   "cell_type": "code",
   "execution_count": null,
   "id": "24a3c6e4-ca97-4b26-8690-c930e19a13a4",
   "metadata": {
    "collapsed": true,
    "jupyter": {
     "outputs_hidden": true
    }
   },
   "outputs": [],
   "source": []
  },
  {
   "cell_type": "code",
   "execution_count": null,
   "id": "a07fb474-3bd0-402e-b275-38b3846bcec0",
   "metadata": {
    "collapsed": true,
    "jupyter": {
     "outputs_hidden": true
    }
   },
   "outputs": [],
   "source": []
  }
 ],
 "metadata": {
  "kernelspec": {
   "display_name": "Python 3 (ipykernel)",
   "language": "python",
   "name": "python3"
  },
  "language_info": {
   "codemirror_mode": {
    "name": "ipython",
    "version": 3
   },
   "file_extension": ".py",
   "mimetype": "text/x-python",
   "name": "python",
   "nbconvert_exporter": "python",
   "pygments_lexer": "ipython3",
   "version": "3.12.4"
  }
 },
 "nbformat": 4,
 "nbformat_minor": 5
}
